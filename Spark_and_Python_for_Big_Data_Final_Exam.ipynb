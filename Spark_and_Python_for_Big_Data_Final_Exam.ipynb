{
  "nbformat": 4,
  "nbformat_minor": 5,
  "metadata": {
    "kernelspec": {
      "display_name": "Python 3",
      "language": "python",
      "name": "python3"
    },
    "language_info": {
      "codemirror_mode": {
        "name": "ipython",
        "version": 3
      },
      "file_extension": ".py",
      "mimetype": "text/x-python",
      "name": "python",
      "nbconvert_exporter": "python",
      "pygments_lexer": "ipython3",
      "version": "3.8.8"
    },
    "colab": {
      "name": "Spark and Python for Big Data Final Exam.ipynb",
      "provenance": [],
      "collapsed_sections": []
    }
  },
  "cells": [
    {
      "cell_type": "markdown",
      "metadata": {
        "id": "AU6xN28JOV2w"
      },
      "source": [
        "##Name: Hassan Magdy Abdallah Nassar\n"
      ],
      "id": "AU6xN28JOV2w"
    },
    {
      "cell_type": "markdown",
      "metadata": {
        "id": "FjyzMTfAOc8F"
      },
      "source": [
        "##Group: 4"
      ],
      "id": "FjyzMTfAOc8F"
    },
    {
      "cell_type": "markdown",
      "metadata": {
        "id": "fa486f23"
      },
      "source": [
        "![image.png](attachment:image.png)"
      ],
      "id": "fa486f23"
    },
    {
      "cell_type": "markdown",
      "metadata": {
        "id": "abbf1e33"
      },
      "source": [
        "##### **Good luck with taking your exam. Keep working and make your dreams all come true. Seeing the results of all of your hard work will make this struggle worth it. We’re all thinking of you.** \n",
        "<b><font color='blue'>AI-PRO Spark Team ITI</font></b>"
      ],
      "id": "abbf1e33"
    },
    {
      "cell_type": "markdown",
      "metadata": {
        "id": "8326ba88"
      },
      "source": [
        "## Objective:\n",
        "- The objective from this project is to create a <b>Logistic Regression Classifier</b> to predict the <b>Stroke Condition</b>.\n",
        "- <b>Stoke</b> is a condition in which either the blood flow to the brain stops or blood flow is excessive.\n",
        "- It is required to obtain <b>ROC > 0.65</b>."
      ],
      "id": "8326ba88"
    },
    {
      "cell_type": "markdown",
      "metadata": {
        "id": "0eb78c16"
      },
      "source": [
        "### Data:\n",
        "- Data is provided in csv format in a file named <b>healthcare-dataset-stroke-data.csv</b>"
      ],
      "id": "0eb78c16"
    },
    {
      "cell_type": "markdown",
      "metadata": {
        "id": "7c842b79"
      },
      "source": [
        "### Column names and data types are as follow:\n",
        "- id, integer.\n",
        "- gender, string.\n",
        "- age, double.\n",
        "- hypertension, integer.\n",
        "- heart_disease, integer.\n",
        "- ever_married, string.\n",
        "- work_type, string.\n",
        "- Residence_type, string.\n",
        "- avg_glucose_level, double.\n",
        "- bmi, double.\n",
        "- smoking_status, string.\n",
        "- stroke, integer <b>(Target Label)</b>.\n",
        "If the person has stroke the stroke label value is <b>\"1\"</b> otherwise <b>\"0\"</b>."
      ],
      "id": "7c842b79"
    },
    {
      "cell_type": "markdown",
      "metadata": {
        "id": "6971f788"
      },
      "source": [
        "## To perform this task follow the following guiding steps:"
      ],
      "id": "6971f788"
    },
    {
      "cell_type": "markdown",
      "metadata": {
        "id": "e31bc851"
      },
      "source": [
        "### Create a spark session and import the required libraries"
      ],
      "id": "e31bc851"
    },
    {
      "cell_type": "code",
      "metadata": {
        "id": "7PEC1zRfwRaa"
      },
      "source": [
        "#!pip install pyspark"
      ],
      "id": "7PEC1zRfwRaa",
      "execution_count": 1,
      "outputs": []
    },
    {
      "cell_type": "code",
      "metadata": {
        "id": "DC0tPf11wmme"
      },
      "source": [
        "#!pip install findspark"
      ],
      "id": "DC0tPf11wmme",
      "execution_count": 2,
      "outputs": []
    },
    {
      "cell_type": "code",
      "metadata": {
        "id": "ab3ba311"
      },
      "source": [
        "from pyspark import SparkContext\n",
        "from pyspark.sql import SparkSession\n",
        "spark = SparkSession.builder.appName('health').getOrCreate()\n",
        "from pyspark.sql.functions import *\n",
        "from pyspark.sql.types import *"
      ],
      "id": "ab3ba311",
      "execution_count": 3,
      "outputs": []
    },
    {
      "cell_type": "markdown",
      "metadata": {
        "id": "SDlbgPu3xBgO"
      },
      "source": [
        "### Create a data schema programatically"
      ],
      "id": "SDlbgPu3xBgO"
    },
    {
      "cell_type": "code",
      "metadata": {
        "id": "8616fe16"
      },
      "source": [
        "schm=StructType([StructField(\"id\", IntegerType(), True),\n",
        "StructField(\"gender\",  StringType(), True),\n",
        "StructField(\"age\",  DoubleType(), True),\n",
        "StructField(\"hypertension\",  IntegerType(), True),\n",
        "StructField(\"heart_disease\", IntegerType(), True),\n",
        "StructField(\"ever_married\",  StringType(), True),\n",
        "StructField(\"work_type\",  StringType(), True),\n",
        "StructField(\"Residence_type\",  StringType(), True),\n",
        "StructField(\"avg_glucose_level\", DoubleType(), True),\n",
        "StructField(\"bmi\", DoubleType(), True),\n",
        "StructField(\"smoking_status\", StringType(), True),\n",
        "StructField(\"stroke\", IntegerType(), True)])"
      ],
      "id": "8616fe16",
      "execution_count": 4,
      "outputs": []
    },
    {
      "cell_type": "markdown",
      "metadata": {
        "id": "2d00718f"
      },
      "source": [
        "### Read the data using the standard DataReader (Key,Value) pairs format\n",
        "- Provide the schema and any other required options."
      ],
      "id": "2d00718f"
    },
    {
      "cell_type": "code",
      "metadata": {
        "id": "61fcc4cd"
      },
      "source": [
        "df = spark.read.csv('healthcare-dataset-stroke-data.csv', schema=schm, inferSchema=True, header=True)"
      ],
      "id": "61fcc4cd",
      "execution_count": 5,
      "outputs": []
    },
    {
      "cell_type": "markdown",
      "metadata": {
        "id": "974bc193"
      },
      "source": [
        "### Explore the data \n",
        "#### You have to do the following:\n",
        "- Print the Schema.\n",
        "- Show the first 10 rows from the data.\n",
        "- Explore null values and show how many null values in each column.\n",
        "- Plot a count plot for the target label and <b>notice the graph</b>.\n",
        "- Perform any additional EDA you find useful."
      ],
      "id": "974bc193"
    },
    {
      "cell_type": "code",
      "metadata": {
        "colab": {
          "base_uri": "https://localhost:8080/"
        },
        "id": "353b6f34",
        "outputId": "c69779bd-975e-4144-d79e-f0f856d45895"
      },
      "source": [
        "df.printSchema()"
      ],
      "id": "353b6f34",
      "execution_count": 6,
      "outputs": [
        {
          "output_type": "stream",
          "name": "stdout",
          "text": [
            "root\n",
            " |-- id: integer (nullable = true)\n",
            " |-- gender: string (nullable = true)\n",
            " |-- age: double (nullable = true)\n",
            " |-- hypertension: integer (nullable = true)\n",
            " |-- heart_disease: integer (nullable = true)\n",
            " |-- ever_married: string (nullable = true)\n",
            " |-- work_type: string (nullable = true)\n",
            " |-- Residence_type: string (nullable = true)\n",
            " |-- avg_glucose_level: double (nullable = true)\n",
            " |-- bmi: double (nullable = true)\n",
            " |-- smoking_status: string (nullable = true)\n",
            " |-- stroke: integer (nullable = true)\n",
            "\n"
          ]
        }
      ]
    },
    {
      "cell_type": "code",
      "metadata": {
        "colab": {
          "base_uri": "https://localhost:8080/"
        },
        "id": "C1B6meYWyJYT",
        "outputId": "4867b50a-7010-49ca-e122-f9b335e46194"
      },
      "source": [
        "df.show(10, truncate=True)"
      ],
      "id": "C1B6meYWyJYT",
      "execution_count": 7,
      "outputs": [
        {
          "output_type": "stream",
          "name": "stdout",
          "text": [
            "+-----+------+----+------------+-------------+------------+-------------+--------------+-----------------+----+---------------+------+\n",
            "|   id|gender| age|hypertension|heart_disease|ever_married|    work_type|Residence_type|avg_glucose_level| bmi| smoking_status|stroke|\n",
            "+-----+------+----+------------+-------------+------------+-------------+--------------+-----------------+----+---------------+------+\n",
            "| 9046|  Male|67.0|           0|            1|         Yes|      Private|         Urban|           228.69|36.6|formerly smoked|     1|\n",
            "|51676|Female|61.0|           0|            0|         Yes|Self-employed|         Rural|           202.21|null|   never smoked|     1|\n",
            "|31112|  Male|80.0|           0|            1|         Yes|      Private|         Rural|           105.92|32.5|   never smoked|     1|\n",
            "|60182|Female|49.0|           0|            0|         Yes|      Private|         Urban|           171.23|34.4|         smokes|     1|\n",
            "| 1665|Female|79.0|           1|            0|         Yes|Self-employed|         Rural|           174.12|24.0|   never smoked|     1|\n",
            "|56669|  Male|81.0|           0|            0|         Yes|      Private|         Urban|           186.21|29.0|formerly smoked|     1|\n",
            "|53882|  Male|74.0|           1|            1|         Yes|      Private|         Rural|            70.09|27.4|   never smoked|     1|\n",
            "|10434|Female|69.0|           0|            0|          No|      Private|         Urban|            94.39|22.8|   never smoked|     1|\n",
            "|27419|Female|59.0|           0|            0|         Yes|      Private|         Rural|            76.15|null|        Unknown|     1|\n",
            "|60491|Female|78.0|           0|            0|         Yes|      Private|         Urban|            58.57|24.2|        Unknown|     1|\n",
            "+-----+------+----+------------+-------------+------------+-------------+--------------+-----------------+----+---------------+------+\n",
            "only showing top 10 rows\n",
            "\n"
          ]
        }
      ]
    },
    {
      "cell_type": "code",
      "metadata": {
        "colab": {
          "base_uri": "https://localhost:8080/"
        },
        "id": "Y164p9oFyXPB",
        "outputId": "e5e01c2f-0140-416a-f454-3580376a0b82"
      },
      "source": [
        "df.select([count(when(isnull(c), c)).alias(c) for c in df.columns]).show()"
      ],
      "id": "Y164p9oFyXPB",
      "execution_count": 8,
      "outputs": [
        {
          "output_type": "stream",
          "name": "stdout",
          "text": [
            "+---+------+---+------------+-------------+------------+---------+--------------+-----------------+---+--------------+------+\n",
            "| id|gender|age|hypertension|heart_disease|ever_married|work_type|Residence_type|avg_glucose_level|bmi|smoking_status|stroke|\n",
            "+---+------+---+------------+-------------+------------+---------+--------------+-----------------+---+--------------+------+\n",
            "|  0|     0|  0|           0|            0|           0|        0|             0|                0|201|             0|     0|\n",
            "+---+------+---+------------+-------------+------------+---------+--------------+-----------------+---+--------------+------+\n",
            "\n"
          ]
        }
      ]
    },
    {
      "cell_type": "code",
      "metadata": {
        "colab": {
          "base_uri": "https://localhost:8080/",
          "height": 296
        },
        "id": "aPxuE6FQzuWo",
        "outputId": "07bb762a-9205-4099-8b7f-5c132d8b479b"
      },
      "source": [
        "import seaborn as sns\n",
        "p_df = df.toPandas()\n",
        "sns.countplot(data=p_df,x='stroke')"
      ],
      "id": "aPxuE6FQzuWo",
      "execution_count": 9,
      "outputs": [
        {
          "output_type": "execute_result",
          "data": {
            "text/plain": [
              "<matplotlib.axes._subplots.AxesSubplot at 0x7f484a2b6610>"
            ]
          },
          "metadata": {},
          "execution_count": 9
        },
        {
          "output_type": "display_data",
          "data": {
            "image/png": "[encoded data removed]",
            "text/plain": [
              "<Figure size 432x288 with 1 Axes>"
            ]
          },
          "metadata": {
            "needs_background": "light"
          }
        }
      ]
    },
    {
      "cell_type": "code",
      "metadata": {
        "id": "6fb198f0"
      },
      "source": [
        ""
      ],
      "id": "6fb198f0",
      "execution_count": 9,
      "outputs": []
    },
    {
      "cell_type": "markdown",
      "metadata": {
        "id": "59b770cb"
      },
      "source": [
        "### Get the summary statistics of the age column\n",
        "- You will find the minimum age is about <b>0.08</b>.\n",
        "- Remove rows for the age below <b>2 years old</b>."
      ],
      "id": "59b770cb"
    },
    {
      "cell_type": "code",
      "metadata": {
        "scrolled": false,
        "colab": {
          "base_uri": "https://localhost:8080/"
        },
        "id": "ed40fb11",
        "outputId": "f6f0162c-60e1-4617-9000-a2d2532dbef0"
      },
      "source": [
        "df.select('age').summary().show()"
      ],
      "id": "ed40fb11",
      "execution_count": 10,
      "outputs": [
        {
          "output_type": "stream",
          "name": "stdout",
          "text": [
            "+-------+------------------+\n",
            "|summary|               age|\n",
            "+-------+------------------+\n",
            "|  count|              5110|\n",
            "|   mean|43.226614481409015|\n",
            "| stddev| 22.61264672311348|\n",
            "|    min|              0.08|\n",
            "|    25%|              25.0|\n",
            "|    50%|              45.0|\n",
            "|    75%|              61.0|\n",
            "|    max|              82.0|\n",
            "+-------+------------------+\n",
            "\n"
          ]
        }
      ]
    },
    {
      "cell_type": "code",
      "metadata": {
        "colab": {
          "base_uri": "https://localhost:8080/"
        },
        "id": "cc99c0be",
        "outputId": "d078a5b5-6635-4010-8adc-06d4e987d9d1"
      },
      "source": [
        "df = df.where(\"age>2\")\n",
        "df.select('age').summary().show()"
      ],
      "id": "cc99c0be",
      "execution_count": 11,
      "outputs": [
        {
          "output_type": "stream",
          "name": "stdout",
          "text": [
            "+-------+-----------------+\n",
            "|summary|              age|\n",
            "+-------+-----------------+\n",
            "|  count|             4935|\n",
            "|   mean|44.70982776089159|\n",
            "| stddev|21.56859737335159|\n",
            "|    min|              3.0|\n",
            "|    25%|             27.0|\n",
            "|    50%|             46.0|\n",
            "|    75%|             61.0|\n",
            "|    max|             82.0|\n",
            "+-------+-----------------+\n",
            "\n"
          ]
        }
      ]
    },
    {
      "cell_type": "markdown",
      "metadata": {
        "id": "bf8c9498"
      },
      "source": [
        "### Working with gender & smoking_status columns:\n",
        "- Select and show the gender & smoking_status columns\n",
        "- Get the distinct values for each column."
      ],
      "id": "bf8c9498"
    },
    {
      "cell_type": "code",
      "metadata": {
        "colab": {
          "base_uri": "https://localhost:8080/"
        },
        "id": "925a5ecd",
        "outputId": "52904125-0ac7-4bbe-f41a-0460c362c92b"
      },
      "source": [
        "df.select(['gender', 'smoking_status']).show()"
      ],
      "id": "925a5ecd",
      "execution_count": 12,
      "outputs": [
        {
          "output_type": "stream",
          "name": "stdout",
          "text": [
            "+------+---------------+\n",
            "|gender| smoking_status|\n",
            "+------+---------------+\n",
            "|  Male|formerly smoked|\n",
            "|Female|   never smoked|\n",
            "|  Male|   never smoked|\n",
            "|Female|         smokes|\n",
            "|Female|   never smoked|\n",
            "|  Male|formerly smoked|\n",
            "|  Male|   never smoked|\n",
            "|Female|   never smoked|\n",
            "|Female|        Unknown|\n",
            "|Female|        Unknown|\n",
            "|Female|   never smoked|\n",
            "|Female|         smokes|\n",
            "|Female|         smokes|\n",
            "|  Male|        Unknown|\n",
            "|Female|   never smoked|\n",
            "|Female|   never smoked|\n",
            "|  Male|         smokes|\n",
            "|  Male|         smokes|\n",
            "|Female|   never smoked|\n",
            "|  Male|        Unknown|\n",
            "+------+---------------+\n",
            "only showing top 20 rows\n",
            "\n"
          ]
        }
      ]
    },
    {
      "cell_type": "code",
      "metadata": {
        "colab": {
          "base_uri": "https://localhost:8080/"
        },
        "id": "9dfe35a4",
        "outputId": "04389d14-5cb8-4184-f402-2b0ede5e0226"
      },
      "source": [
        "df.select('gender').distinct().show()"
      ],
      "id": "9dfe35a4",
      "execution_count": 13,
      "outputs": [
        {
          "output_type": "stream",
          "name": "stdout",
          "text": [
            "+------+\n",
            "|gender|\n",
            "+------+\n",
            "|Female|\n",
            "| Other|\n",
            "|  Male|\n",
            "+------+\n",
            "\n"
          ]
        }
      ]
    },
    {
      "cell_type": "code",
      "metadata": {
        "colab": {
          "base_uri": "https://localhost:8080/"
        },
        "id": "b7bf6c7e",
        "outputId": "2e0c7836-c070-40a6-eb32-afdb8466ded8"
      },
      "source": [
        "df.select('smoking_status').distinct().show()"
      ],
      "id": "b7bf6c7e",
      "execution_count": 14,
      "outputs": [
        {
          "output_type": "stream",
          "name": "stdout",
          "text": [
            "+---------------+\n",
            "| smoking_status|\n",
            "+---------------+\n",
            "|         smokes|\n",
            "|        Unknown|\n",
            "|   never smoked|\n",
            "|formerly smoked|\n",
            "+---------------+\n",
            "\n"
          ]
        }
      ]
    },
    {
      "cell_type": "markdown",
      "metadata": {
        "id": "850bdfe1"
      },
      "source": [
        "#### Change the string values of the columns into numerical values as follow:\n",
        "1. Gender column:\n",
        "    * Male = 1 \n",
        "    * Female = 0 \n",
        "    * Other = 0 \n",
        "2. Smoking Status column:\n",
        "  * never smoked = 0\n",
        "  * Unknown = 0.5\n",
        "  * formerly smoked = 0.75\n",
        "  * smokes = 1.0\n"
      ],
      "id": "850bdfe1"
    },
    {
      "cell_type": "code",
      "metadata": {
        "colab": {
          "base_uri": "https://localhost:8080/"
        },
        "id": "355f2ef0",
        "outputId": "73358cd6-0df1-4f2d-b4f6-e9c4c70ae513"
      },
      "source": [
        "df = df.withColumn(\"gender\",when((df[\"gender\"]=='Male'), 1).otherwise(df[\"gender\"]))\n",
        "df = df.withColumn(\"gender\",when((df[\"gender\"]=='Female'), 0).otherwise(df[\"gender\"]))\n",
        "df = df.withColumn(\"gender\",when((df[\"gender\"]=='Other'), 0).otherwise(df[\"gender\"]))\n",
        "df = df.withColumn(\"gender\",df.gender.cast(IntegerType()))\n",
        "df.show(10, truncate=True)"
      ],
      "id": "355f2ef0",
      "execution_count": 15,
      "outputs": [
        {
          "output_type": "stream",
          "name": "stdout",
          "text": [
            "+-----+------+----+------------+-------------+------------+-------------+--------------+-----------------+----+---------------+------+\n",
            "|   id|gender| age|hypertension|heart_disease|ever_married|    work_type|Residence_type|avg_glucose_level| bmi| smoking_status|stroke|\n",
            "+-----+------+----+------------+-------------+------------+-------------+--------------+-----------------+----+---------------+------+\n",
            "| 9046|     1|67.0|           0|            1|         Yes|      Private|         Urban|           228.69|36.6|formerly smoked|     1|\n",
            "|51676|     0|61.0|           0|            0|         Yes|Self-employed|         Rural|           202.21|null|   never smoked|     1|\n",
            "|31112|     1|80.0|           0|            1|         Yes|      Private|         Rural|           105.92|32.5|   never smoked|     1|\n",
            "|60182|     0|49.0|           0|            0|         Yes|      Private|         Urban|           171.23|34.4|         smokes|     1|\n",
            "| 1665|     0|79.0|           1|            0|         Yes|Self-employed|         Rural|           174.12|24.0|   never smoked|     1|\n",
            "|56669|     1|81.0|           0|            0|         Yes|      Private|         Urban|           186.21|29.0|formerly smoked|     1|\n",
            "|53882|     1|74.0|           1|            1|         Yes|      Private|         Rural|            70.09|27.4|   never smoked|     1|\n",
            "|10434|     0|69.0|           0|            0|          No|      Private|         Urban|            94.39|22.8|   never smoked|     1|\n",
            "|27419|     0|59.0|           0|            0|         Yes|      Private|         Rural|            76.15|null|        Unknown|     1|\n",
            "|60491|     0|78.0|           0|            0|         Yes|      Private|         Urban|            58.57|24.2|        Unknown|     1|\n",
            "+-----+------+----+------------+-------------+------------+-------------+--------------+-----------------+----+---------------+------+\n",
            "only showing top 10 rows\n",
            "\n"
          ]
        }
      ]
    },
    {
      "cell_type": "code",
      "metadata": {
        "colab": {
          "base_uri": "https://localhost:8080/"
        },
        "id": "Xln7AjCh6HUP",
        "outputId": "5fb8f0b3-cd8d-4589-fdc9-035423a00f1b"
      },
      "source": [
        "df = df.withColumn(\"smoking_status\",when((df[\"smoking_status\"]=='never smoked'), 0).otherwise(df[\"smoking_status\"]))\n",
        "df = df.withColumn(\"smoking_status\",when((df[\"smoking_status\"]=='Unknown'), 0.5).otherwise(df[\"smoking_status\"]))\n",
        "df = df.withColumn(\"smoking_status\",when((df[\"smoking_status\"]=='formerly smoked'), 0.75).otherwise(df[\"smoking_status\"]))\n",
        "df = df.withColumn(\"smoking_status\",when((df[\"smoking_status\"]=='smokes'), 1).otherwise(df[\"smoking_status\"]))\n",
        "df = df.withColumn(\"smoking_status\",df.smoking_status.cast(DoubleType()))\n",
        "df.show(10, truncate=True)"
      ],
      "id": "Xln7AjCh6HUP",
      "execution_count": 16,
      "outputs": [
        {
          "output_type": "stream",
          "name": "stdout",
          "text": [
            "+-----+------+----+------------+-------------+------------+-------------+--------------+-----------------+----+--------------+------+\n",
            "|   id|gender| age|hypertension|heart_disease|ever_married|    work_type|Residence_type|avg_glucose_level| bmi|smoking_status|stroke|\n",
            "+-----+------+----+------------+-------------+------------+-------------+--------------+-----------------+----+--------------+------+\n",
            "| 9046|     1|67.0|           0|            1|         Yes|      Private|         Urban|           228.69|36.6|          0.75|     1|\n",
            "|51676|     0|61.0|           0|            0|         Yes|Self-employed|         Rural|           202.21|null|           0.0|     1|\n",
            "|31112|     1|80.0|           0|            1|         Yes|      Private|         Rural|           105.92|32.5|           0.0|     1|\n",
            "|60182|     0|49.0|           0|            0|         Yes|      Private|         Urban|           171.23|34.4|           1.0|     1|\n",
            "| 1665|     0|79.0|           1|            0|         Yes|Self-employed|         Rural|           174.12|24.0|           0.0|     1|\n",
            "|56669|     1|81.0|           0|            0|         Yes|      Private|         Urban|           186.21|29.0|          0.75|     1|\n",
            "|53882|     1|74.0|           1|            1|         Yes|      Private|         Rural|            70.09|27.4|           0.0|     1|\n",
            "|10434|     0|69.0|           0|            0|          No|      Private|         Urban|            94.39|22.8|           0.0|     1|\n",
            "|27419|     0|59.0|           0|            0|         Yes|      Private|         Rural|            76.15|null|           0.5|     1|\n",
            "|60491|     0|78.0|           0|            0|         Yes|      Private|         Urban|            58.57|24.2|           0.5|     1|\n",
            "+-----+------+----+------------+-------------+------------+-------------+--------------+-----------------+----+--------------+------+\n",
            "only showing top 10 rows\n",
            "\n"
          ]
        }
      ]
    },
    {
      "cell_type": "markdown",
      "metadata": {
        "id": "3da38a31"
      },
      "source": [
        "#### Show the output DataFrame\n",
        "- Select and show the gender & smoking_status columns after value changing.\n",
        "- Print schema for the new dataframe."
      ],
      "id": "3da38a31"
    },
    {
      "cell_type": "code",
      "metadata": {
        "colab": {
          "base_uri": "https://localhost:8080/"
        },
        "id": "7df0cf29",
        "outputId": "144785be-e343-4068-f44c-5537cd6185ca"
      },
      "source": [
        "df.select(['gender', 'smoking_status']).show()"
      ],
      "id": "7df0cf29",
      "execution_count": 17,
      "outputs": [
        {
          "output_type": "stream",
          "name": "stdout",
          "text": [
            "+------+--------------+\n",
            "|gender|smoking_status|\n",
            "+------+--------------+\n",
            "|     1|          0.75|\n",
            "|     0|           0.0|\n",
            "|     1|           0.0|\n",
            "|     0|           1.0|\n",
            "|     0|           0.0|\n",
            "|     1|          0.75|\n",
            "|     1|           0.0|\n",
            "|     0|           0.0|\n",
            "|     0|           0.5|\n",
            "|     0|           0.5|\n",
            "|     0|           0.0|\n",
            "|     0|           1.0|\n",
            "|     0|           1.0|\n",
            "|     1|           0.5|\n",
            "|     0|           0.0|\n",
            "|     0|           0.0|\n",
            "|     1|           1.0|\n",
            "|     1|           1.0|\n",
            "|     0|           0.0|\n",
            "|     1|           0.5|\n",
            "+------+--------------+\n",
            "only showing top 20 rows\n",
            "\n"
          ]
        }
      ]
    },
    {
      "cell_type": "code",
      "metadata": {
        "colab": {
          "base_uri": "https://localhost:8080/"
        },
        "id": "k7VO2lM_8JGr",
        "outputId": "1978da87-66a3-488d-c7c7-a84198dc4245"
      },
      "source": [
        "df.printSchema()"
      ],
      "id": "k7VO2lM_8JGr",
      "execution_count": 18,
      "outputs": [
        {
          "output_type": "stream",
          "name": "stdout",
          "text": [
            "root\n",
            " |-- id: integer (nullable = true)\n",
            " |-- gender: integer (nullable = true)\n",
            " |-- age: double (nullable = true)\n",
            " |-- hypertension: integer (nullable = true)\n",
            " |-- heart_disease: integer (nullable = true)\n",
            " |-- ever_married: string (nullable = true)\n",
            " |-- work_type: string (nullable = true)\n",
            " |-- Residence_type: string (nullable = true)\n",
            " |-- avg_glucose_level: double (nullable = true)\n",
            " |-- bmi: double (nullable = true)\n",
            " |-- smoking_status: double (nullable = true)\n",
            " |-- stroke: integer (nullable = true)\n",
            "\n"
          ]
        }
      ]
    },
    {
      "cell_type": "markdown",
      "metadata": {
        "id": "89ce3b77"
      },
      "source": [
        "### Deal with null value according to your data analysis."
      ],
      "id": "89ce3b77"
    },
    {
      "cell_type": "code",
      "metadata": {
        "colab": {
          "base_uri": "https://localhost:8080/"
        },
        "id": "4d78cb87",
        "outputId": "711376a8-4ee5-464b-d50e-4639b09e55f2"
      },
      "source": [
        "mean = int(df.groupBy().avg('bmi').collect()[0][0])\n",
        "df = df.withColumn(\"bmi\",when((df[\"bmi\"].isNull()), mean).otherwise(df[\"bmi\"]))\n",
        "df.select([count(when(isnull(c), c)).alias(c) for c in df.columns]).show()"
      ],
      "id": "4d78cb87",
      "execution_count": 19,
      "outputs": [
        {
          "output_type": "stream",
          "name": "stdout",
          "text": [
            "+---+------+---+------------+-------------+------------+---------+--------------+-----------------+---+--------------+------+\n",
            "| id|gender|age|hypertension|heart_disease|ever_married|work_type|Residence_type|avg_glucose_level|bmi|smoking_status|stroke|\n",
            "+---+------+---+------------+-------------+------------+---------+--------------+-----------------+---+--------------+------+\n",
            "|  0|     0|  0|           0|            0|           0|        0|             0|                0|  0|             0|     0|\n",
            "+---+------+---+------------+-------------+------------+---------+--------------+-----------------+---+--------------+------+\n",
            "\n"
          ]
        }
      ]
    },
    {
      "cell_type": "markdown",
      "metadata": {
        "id": "053c429a"
      },
      "source": [
        "### Split the data into training and test dataframes:\n",
        "- 80% training and 20% test.\n",
        "- seed = 42.\n",
        "- Save each dataframe as a parquet file"
      ],
      "id": "053c429a"
    },
    {
      "cell_type": "code",
      "metadata": {
        "id": "0236ea8b"
      },
      "source": [
        "(traindf, testdf) = df.randomSplit([0.8,0.2],seed=42)\n",
        "traindf.write.parquet(\"train5.parquet\") \n",
        "testdf.write.parquet(\"test5.parquet\") "
      ],
      "id": "0236ea8b",
      "execution_count": 68,
      "outputs": []
    },
    {
      "cell_type": "markdown",
      "metadata": {
        "id": "78fa24da"
      },
      "source": [
        "### Read the saved Train and Test DataFrame:\n",
        "- Use the dataframes you read in the subsequent steps."
      ],
      "id": "78fa24da"
    },
    {
      "cell_type": "code",
      "metadata": {
        "colab": {
          "base_uri": "https://localhost:8080/"
        },
        "id": "c3f5c1e3",
        "outputId": "920bb32a-a953-4202-d552-68186be6a2f4"
      },
      "source": [
        "traindf = spark.read.parquet(\"train5.parquet\")\n",
        "testdf = spark.read.parquet(\"test5.parquet\")\n",
        "traindf.show()"
      ],
      "id": "c3f5c1e3",
      "execution_count": 46,
      "outputs": [
        {
          "output_type": "stream",
          "name": "stdout",
          "text": [
            "+---+------+----+------------+-------------+------------+-------------+--------------+-----------------+----+--------------+------+\n",
            "| id|gender| age|hypertension|heart_disease|ever_married|    work_type|Residence_type|avg_glucose_level| bmi|smoking_status|stroke|\n",
            "+---+------+----+------------+-------------+------------+-------------+--------------+-----------------+----+--------------+------+\n",
            "| 67|     0|17.0|           0|            0|          No|      Private|         Urban|            92.97|29.0|          0.75|     0|\n",
            "| 77|     0|13.0|           0|            0|          No|     children|         Rural|            85.81|18.6|           0.5|     0|\n",
            "| 91|     0|42.0|           0|            0|          No|      Private|         Urban|            98.53|18.5|           0.0|     0|\n",
            "| 99|     0|31.0|           0|            0|          No|      Private|         Urban|           108.89|52.3|           0.5|     0|\n",
            "|121|     0|38.0|           0|            0|         Yes|      Private|         Urban|            91.44|29.0|           0.5|     0|\n",
            "|132|     0|80.0|           0|            0|         Yes|     Govt_job|         Urban|            84.86|29.0|           0.5|     0|\n",
            "|163|     0|20.0|           0|            0|          No|      Private|         Rural|            94.67|28.8|           0.5|     0|\n",
            "|170|     1|43.0|           0|            0|         Yes|     Govt_job|         Rural|            80.07|29.0|           0.0|     0|\n",
            "|172|     1| 8.0|           0|            0|          No|     children|         Urban|            78.76|29.0|           0.5|     0|\n",
            "|187|     0|20.0|           0|            0|          No|      Private|         Rural|            84.07|27.6|           1.0|     0|\n",
            "|210|     1|81.0|           0|            0|         Yes|Self-employed|         Rural|            91.54|31.4|           0.0|     1|\n",
            "|224|     0|23.0|           0|            0|          No|      Private|         Urban|           110.16|29.0|           0.0|     0|\n",
            "|239|     1|59.0|           1|            1|         Yes|      Private|         Rural|           246.53|27.2|          0.75|     0|\n",
            "|242|     1| 4.0|           0|            0|          No|     children|         Urban|            98.56|17.5|           0.5|     0|\n",
            "|247|     1|31.0|           0|            0|          No|      Private|         Urban|             72.6|31.6|           0.0|     0|\n",
            "|298|     0|41.0|           0|            0|         Yes|Self-employed|         Rural|            76.66|29.0|           0.5|     0|\n",
            "|315|     1|45.0|           0|            0|         Yes|      Private|         Rural|            65.42|39.7|           0.0|     0|\n",
            "|321|     0|79.0|           0|            0|          No|Self-employed|         Rural|            71.98|36.4|           0.0|     0|\n",
            "|347|     0|16.0|           0|            0|          No|      Private|         Urban|            89.45|29.0|           0.5|     0|\n",
            "|354|     0|65.0|           0|            0|         Yes|      Private|         Urban|            72.49|28.9|           1.0|     0|\n",
            "+---+------+----+------------+-------------+------------+-------------+--------------+-----------------+----+--------------+------+\n",
            "only showing top 20 rows\n",
            "\n"
          ]
        }
      ]
    },
    {
      "cell_type": "markdown",
      "metadata": {
        "id": "987b4b40"
      },
      "source": [
        "### Create the model:\n",
        "- Perform feature engineering steps.\n",
        "- Create the logistic regression classifier.\n",
        "- Build the pipeline model that uses all feature engineering steps and the model.\n",
        "- Train the pipeline model using the trainig dataset."
      ],
      "id": "987b4b40"
    },
    {
      "cell_type": "code",
      "metadata": {
        "id": "3278e362"
      },
      "source": [
        "from pyspark.ml import Pipeline\n",
        "from pyspark.ml.classification import LogisticRegression\n",
        "from pyspark.ml.feature import StringIndexer, VectorIndexer, OneHotEncoder, VectorAssembler, IndexToString\n",
        "from pyspark.ml.evaluation import MulticlassClassificationEvaluator"
      ],
      "id": "3278e362",
      "execution_count": 47,
      "outputs": []
    },
    {
      "cell_type": "code",
      "metadata": {
        "id": "4e41b352"
      },
      "source": [
        "Indexer1 = StringIndexer(inputCol=\"ever_married\", outputCol=\"indexedM\")\n",
        "Indexer2 = StringIndexer(inputCol=\"work_type\", outputCol=\"indexedW\") \n",
        "Indexer3 = StringIndexer(inputCol=\"Residence_type\", outputCol=\"indexedR\")\n",
        " \n",
        "Encoder1 = OneHotEncoder(inputCol=\"indexedM\", outputCol=\"MVec\")\n",
        "Encoder2 = OneHotEncoder(inputCol=\"indexedW\", outputCol=\"WVec\")\n",
        "Encoder3 = OneHotEncoder(inputCol=\"indexedR\", outputCol=\"RVec\")\n",
        "\n",
        "assembler = VectorAssembler(inputCols=['gender',\n",
        "                                      'age',\n",
        "                                      'hypertension',\n",
        "                                      'heart_disease',\n",
        "                                      'avg_glucose_level',\n",
        "                                      'bmi',\n",
        "                                      'smoking_status',\n",
        "                                       \"MVec\",\"WVec\",\"RVec\"],outputCol=\"features\")\n",
        " \n",
        "rf = LogisticRegression(labelCol=\"stroke\", featuresCol=\"features\")\n",
        " \n",
        "pipeline = Pipeline(stages=[Indexer1, Indexer2, Indexer3,\n",
        "                            Encoder1, Encoder2,Encoder3, assembler, rf])"
      ],
      "id": "4e41b352",
      "execution_count": 48,
      "outputs": []
    },
    {
      "cell_type": "code",
      "metadata": {
        "id": "106453d7"
      },
      "source": [
        "model = pipeline.fit(traindf)"
      ],
      "id": "106453d7",
      "execution_count": 49,
      "outputs": []
    },
    {
      "cell_type": "markdown",
      "metadata": {
        "id": "a05c2677"
      },
      "source": [
        "### Perform predictions on tests dataframe:\n",
        "- Test the model using the test dataframe\n",
        "- Select and show the feature column.\n",
        "- Print the schema of the output dataframe.\n",
        "- Select and show both prediction and label columns.\n",
        "- Explore the results for the label column stroke=1. i.e. select both columns (prediction,stroke) for stroke=1.<b>notice the result.</b> \n",
        "- Count the predicted 1 and 0 values.<b>notice the result.</b>   "
      ],
      "id": "a05c2677"
    },
    {
      "cell_type": "code",
      "metadata": {
        "id": "d772bef6"
      },
      "source": [
        "pred = model.transform(testdf)"
      ],
      "id": "d772bef6",
      "execution_count": 50,
      "outputs": []
    },
    {
      "cell_type": "code",
      "metadata": {
        "colab": {
          "base_uri": "https://localhost:8080/"
        },
        "id": "3ea267eb",
        "outputId": "11604ef1-ac0d-4dd5-cc5d-a0f2283323c0"
      },
      "source": [
        "pred.select(\"features\").show(5)"
      ],
      "id": "3ea267eb",
      "execution_count": 51,
      "outputs": [
        {
          "output_type": "stream",
          "name": "stdout",
          "text": [
            "+--------------------+\n",
            "|            features|\n",
            "+--------------------+\n",
            "|(13,[0,1,4,5,7,8,...|\n",
            "|(13,[1,4,5,8,12],...|\n",
            "|(13,[1,4,5,7,8],[...|\n",
            "|(13,[1,4,5,6,7,8]...|\n",
            "|(13,[0,1,4,5,7,8,...|\n",
            "+--------------------+\n",
            "only showing top 5 rows\n",
            "\n"
          ]
        }
      ]
    },
    {
      "cell_type": "code",
      "metadata": {
        "scrolled": false,
        "colab": {
          "base_uri": "https://localhost:8080/"
        },
        "id": "480d892e",
        "outputId": "fa6183f2-9408-427c-d852-221615b57415"
      },
      "source": [
        "pred.printSchema()"
      ],
      "id": "480d892e",
      "execution_count": 52,
      "outputs": [
        {
          "output_type": "stream",
          "name": "stdout",
          "text": [
            "root\n",
            " |-- id: integer (nullable = true)\n",
            " |-- gender: integer (nullable = true)\n",
            " |-- age: double (nullable = true)\n",
            " |-- hypertension: integer (nullable = true)\n",
            " |-- heart_disease: integer (nullable = true)\n",
            " |-- ever_married: string (nullable = true)\n",
            " |-- work_type: string (nullable = true)\n",
            " |-- Residence_type: string (nullable = true)\n",
            " |-- avg_glucose_level: double (nullable = true)\n",
            " |-- bmi: double (nullable = true)\n",
            " |-- smoking_status: double (nullable = true)\n",
            " |-- stroke: integer (nullable = true)\n",
            " |-- indexedM: double (nullable = false)\n",
            " |-- indexedW: double (nullable = false)\n",
            " |-- indexedR: double (nullable = false)\n",
            " |-- MVec: vector (nullable = true)\n",
            " |-- WVec: vector (nullable = true)\n",
            " |-- RVec: vector (nullable = true)\n",
            " |-- features: vector (nullable = true)\n",
            " |-- rawPrediction: vector (nullable = true)\n",
            " |-- probability: vector (nullable = true)\n",
            " |-- prediction: double (nullable = false)\n",
            "\n"
          ]
        }
      ]
    },
    {
      "cell_type": "code",
      "metadata": {
        "colab": {
          "base_uri": "https://localhost:8080/"
        },
        "id": "gMctqIivD_jU",
        "outputId": "8a095b3c-5c31-4798-97b8-559b0e97e77a"
      },
      "source": [
        "pred.select(\"prediction\",\"features\").show(5)"
      ],
      "id": "gMctqIivD_jU",
      "execution_count": 53,
      "outputs": [
        {
          "output_type": "stream",
          "name": "stdout",
          "text": [
            "+----------+--------------------+\n",
            "|prediction|            features|\n",
            "+----------+--------------------+\n",
            "|       0.0|(13,[0,1,4,5,7,8,...|\n",
            "|       0.0|(13,[1,4,5,8,12],...|\n",
            "|       0.0|(13,[1,4,5,7,8],[...|\n",
            "|       0.0|(13,[1,4,5,6,7,8]...|\n",
            "|       0.0|(13,[0,1,4,5,7,8,...|\n",
            "+----------+--------------------+\n",
            "only showing top 5 rows\n",
            "\n"
          ]
        }
      ]
    },
    {
      "cell_type": "code",
      "metadata": {
        "colab": {
          "base_uri": "https://localhost:8080/"
        },
        "id": "cs7Ej74AEYwF",
        "outputId": "0e1e3e8e-106e-4320-d0ea-e55432c93f75"
      },
      "source": [
        "pred.select(\"prediction\",\"features\").where(pred[\"prediction\"]==1).show(5)"
      ],
      "id": "cs7Ej74AEYwF",
      "execution_count": 54,
      "outputs": [
        {
          "output_type": "stream",
          "name": "stdout",
          "text": [
            "+----------+--------------------+\n",
            "|prediction|            features|\n",
            "+----------+--------------------+\n",
            "|       1.0|[0.0,78.0,1.0,1.0...|\n",
            "+----------+--------------------+\n",
            "\n"
          ]
        }
      ]
    },
    {
      "cell_type": "markdown",
      "metadata": {
        "id": "xiSaY4lHErB9"
      },
      "source": [
        ""
      ],
      "id": "xiSaY4lHErB9"
    },
    {
      "cell_type": "markdown",
      "metadata": {
        "id": "daec120f"
      },
      "source": [
        "### Evaluate the model performance\n",
        "- Use <b>BinaryClassificationEvaluator</b>. This will calculate the <b>ROC</b>.\n",
        "- Set the parameters as follow:\n",
        "    - <b>rawPredictionCol='prediction'</b> and <b>labelCol='stroke'</b>"
      ],
      "id": "daec120f"
    },
    {
      "cell_type": "code",
      "metadata": {
        "id": "a7b5ad25"
      },
      "source": [
        "from pyspark.ml.evaluation import BinaryClassificationEvaluator"
      ],
      "id": "a7b5ad25",
      "execution_count": 55,
      "outputs": []
    },
    {
      "cell_type": "code",
      "metadata": {
        "id": "44d3a1e6"
      },
      "source": [
        "evaluatorROC = BinaryClassificationEvaluator(rawPredictionCol='prediction'\n",
        "                                             ,labelCol='stroke')"
      ],
      "id": "44d3a1e6",
      "execution_count": 56,
      "outputs": []
    },
    {
      "cell_type": "code",
      "metadata": {
        "colab": {
          "base_uri": "https://localhost:8080/"
        },
        "id": "IDaRXn6aK90V",
        "outputId": "299111f1-732d-4074-dbc5-965d140c6592"
      },
      "source": [
        "pred.groupby('prediction').count().show()"
      ],
      "id": "IDaRXn6aK90V",
      "execution_count": 57,
      "outputs": [
        {
          "output_type": "stream",
          "name": "stdout",
          "text": [
            "+----------+-----+\n",
            "|prediction|count|\n",
            "+----------+-----+\n",
            "|       0.0|  943|\n",
            "|       1.0|    1|\n",
            "+----------+-----+\n",
            "\n"
          ]
        }
      ]
    },
    {
      "cell_type": "code",
      "metadata": {
        "colab": {
          "base_uri": "https://localhost:8080/"
        },
        "id": "3adbe41f",
        "outputId": "ed9cf827-a691-4832-8031-c4a19303428d"
      },
      "source": [
        "evaluatorROC.evaluate(pred)"
      ],
      "id": "3adbe41f",
      "execution_count": 58,
      "outputs": [
        {
          "output_type": "execute_result",
          "data": {
            "text/plain": [
              "0.4994475138121547"
            ]
          },
          "metadata": {},
          "execution_count": 58
        }
      ]
    },
    {
      "cell_type": "markdown",
      "metadata": {
        "id": "40206589"
      },
      "source": [
        "### Improve Model Performance\n",
        "- You may noticed that <b>the target label is imbalanced</b>.\n",
        "- LogisticRegression classifier has a special parameter <b>weightCol</b> to deal with imbalanced class.\n",
        "- In order to use this parameter you must have a <b>weightCol</b> in your training dataframe.\n",
        "- In order to create this column you will need to define a <b>UDF</b> and apply it to the target label column.\n",
        "- Create a LogisticRegression classifier with <b>weightCol</b> parameter.\n",
        "- Build and train a pipeline model with the new LogisticRegression.\n",
        "- Perform the prediction on the test dataframe. \n",
        "- Select and show both prediction and label columns.\n",
        "- Explore the results for the label column stroke=1. i.e. select both columns (prediction,stroke) for stroke=1.<b>notice the result.</b> \n",
        "- Count the predicted 1 and 0 values.<b>notice the result.</b>   \n",
        "- Evaluate the model performance exactly as in the previous step.\n",
        "### YOU SHOULD OBTAIN  ROC > 0.65\n",
        "<BR>\n",
        "<b><font color='red'>Note: feel free to deal with the imbalanced cluster with the above method or another. However, you can only use methods applied on SPARK DATAFRAME</font></b>"
      ],
      "id": "40206589"
    },
    {
      "cell_type": "code",
      "metadata": {
        "id": "Cbnm4EaHHsmr"
      },
      "source": [
        "balancingRatio = traindf.filter(col('stroke') == 1).count() / traindf.count()"
      ],
      "id": "Cbnm4EaHHsmr",
      "execution_count": 59,
      "outputs": []
    },
    {
      "cell_type": "code",
      "metadata": {
        "id": "YSlFpuqDIX7x"
      },
      "source": [
        "calculateWeights = udf(lambda x: 1 * balancingRatio if x == 0 else (1 * (1.0 - balancingRatio)), DoubleType())"
      ],
      "id": "YSlFpuqDIX7x",
      "execution_count": 60,
      "outputs": []
    },
    {
      "cell_type": "code",
      "metadata": {
        "id": "MsoMrmJ_Is0B"
      },
      "source": [
        "traindf = traindf.withColumn('classWeightCol', calculateWeights('stroke'))"
      ],
      "id": "MsoMrmJ_Is0B",
      "execution_count": 61,
      "outputs": []
    },
    {
      "cell_type": "code",
      "metadata": {
        "id": "03385adc"
      },
      "source": [
        "assembler = VectorAssembler(inputCols=['gender',\n",
        "                                      'age',\n",
        "                                      'hypertension',\n",
        "                                      'heart_disease',\n",
        "                                      'avg_glucose_level',\n",
        "                                      'bmi',\n",
        "                                      'smoking_status',\n",
        "                                       \"MVec\",\"WVec\",\"RVec\"],outputCol=\"features\")\n",
        "rf1 = LogisticRegression(labelCol=\"stroke\", featuresCol=\"features\",weightCol='classWeightCol')\n",
        " \n",
        "pipeline = Pipeline(stages=[Indexer1, Indexer2, Indexer3,\n",
        "                            Encoder1, Encoder2,Encoder3, assembler, rf1])"
      ],
      "id": "03385adc",
      "execution_count": 62,
      "outputs": []
    },
    {
      "cell_type": "code",
      "metadata": {
        "id": "00e034e9"
      },
      "source": [
        "model1 = pipeline.fit(traindf)\n",
        "pred_W = model1.transform(testdf)"
      ],
      "id": "00e034e9",
      "execution_count": 63,
      "outputs": []
    },
    {
      "cell_type": "code",
      "metadata": {
        "colab": {
          "base_uri": "https://localhost:8080/"
        },
        "id": "BdXhdL_7JL0b",
        "outputId": "fcfa85e3-4e07-4291-8e52-2cd645986bf4"
      },
      "source": [
        "pred_W.select(\"prediction\",\"features\").show(5)"
      ],
      "id": "BdXhdL_7JL0b",
      "execution_count": 64,
      "outputs": [
        {
          "output_type": "stream",
          "name": "stdout",
          "text": [
            "+----------+--------------------+\n",
            "|prediction|            features|\n",
            "+----------+--------------------+\n",
            "|       0.0|(13,[0,1,4,5,7,8,...|\n",
            "|       0.0|(13,[1,4,5,8,12],...|\n",
            "|       0.0|(13,[1,4,5,7,8],[...|\n",
            "|       0.0|(13,[1,4,5,6,7,8]...|\n",
            "|       1.0|(13,[0,1,4,5,7,8,...|\n",
            "+----------+--------------------+\n",
            "only showing top 5 rows\n",
            "\n"
          ]
        }
      ]
    },
    {
      "cell_type": "code",
      "metadata": {
        "colab": {
          "base_uri": "https://localhost:8080/"
        },
        "id": "66efa0c6",
        "outputId": "1864634f-9c07-4c24-b21a-484914d3821e"
      },
      "source": [
        "pred_W.select(\"prediction\",\"features\").where(pred_W[\"prediction\"]==1).show(5)"
      ],
      "id": "66efa0c6",
      "execution_count": 65,
      "outputs": [
        {
          "output_type": "stream",
          "name": "stdout",
          "text": [
            "+----------+--------------------+\n",
            "|prediction|            features|\n",
            "+----------+--------------------+\n",
            "|       1.0|(13,[0,1,4,5,7,8,...|\n",
            "|       1.0|(13,[0,1,2,4,5,7,...|\n",
            "|       1.0|(13,[1,4,5,7,9,12...|\n",
            "|       1.0|(13,[0,1,4,5,6,7,...|\n",
            "|       1.0|(13,[1,2,3,4,5,6,...|\n",
            "+----------+--------------------+\n",
            "only showing top 5 rows\n",
            "\n"
          ]
        }
      ]
    },
    {
      "cell_type": "code",
      "metadata": {
        "colab": {
          "base_uri": "https://localhost:8080/"
        },
        "id": "0ZJagrAeK0Ae",
        "outputId": "e563b3bf-12cf-43ea-9c00-525361624ed9"
      },
      "source": [
        "pred_W.groupby('prediction').count().show()"
      ],
      "id": "0ZJagrAeK0Ae",
      "execution_count": 66,
      "outputs": [
        {
          "output_type": "stream",
          "name": "stdout",
          "text": [
            "+----------+-----+\n",
            "|prediction|count|\n",
            "+----------+-----+\n",
            "|       0.0|  687|\n",
            "|       1.0|  257|\n",
            "+----------+-----+\n",
            "\n"
          ]
        }
      ]
    },
    {
      "cell_type": "code",
      "metadata": {
        "colab": {
          "base_uri": "https://localhost:8080/"
        },
        "id": "4e8c18b5",
        "outputId": "c8ae1d85-ca88-43d0-b5ff-74dfb1ead282"
      },
      "source": [
        "evaluatorROC.evaluate(pred_W)"
      ],
      "id": "4e8c18b5",
      "execution_count": 67,
      "outputs": [
        {
          "output_type": "execute_result",
          "data": {
            "text/plain": [
              "0.7592010199745006"
            ]
          },
          "metadata": {},
          "execution_count": 67
        }
      ]
    },
    {
      "cell_type": "markdown",
      "metadata": {
        "id": "e00e7b53"
      },
      "source": [
        "# GOOD LUCK\n",
        "<b><font color='GREEN'>AI-PRO Spark Team ITI</font></b>"
      ],
      "id": "e00e7b53"
    },
    {
      "cell_type": "markdown",
      "metadata": {
        "id": "0e065922"
      },
      "source": [
        "![image-3.png](attachment:image-3.png)"
      ],
      "id": "0e065922"
    }
  ]
}